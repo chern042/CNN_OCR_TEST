{
 "cells": [
  {
   "cell_type": "code",
   "execution_count": 12,
   "id": "93cbcc3d",
   "metadata": {},
   "outputs": [],
   "source": [
    "import matplotlib.pyplot as plt\n",
    "from tensorflow.keras.models import load_model\n",
    "from imutils.contours import sort_contours\n",
    "from imutils import contours\n",
    "import numpy as np\n",
    "import argparse\n",
    "import imutils\n",
    "import pandas as pd\n",
    "import cv2\n"
   ]
  },
  {
   "cell_type": "code",
   "execution_count": 13,
   "id": "bddd7705",
   "metadata": {},
   "outputs": [
    {
     "name": "stdout",
     "output_type": "stream",
     "text": [
      "Does your model take 28x28(1) images, or are they 64x64(2):1\n"
     ]
    }
   ],
   "source": [
    "imgSize = int(input(\"Does your model take 28x28(1) images, or are they 64x64(2):\"))\n",
    "\n",
    "img = cv2.imread('archive/helloworldtest.png')\n",
    "if imgSize == 1:\n",
    "    labelMap = pd.read_csv(\"data/emnist-balanced-mapping.txt\", \n",
    "                            delimiter = ' ', \n",
    "                            index_col=0, \n",
    "                            header=None, \n",
    "                            squeeze=True)\n",
    "else:\n",
    "    labelMap = {\n",
    "            0: \"0\", 1: \"1\", 2: \"2\", 3: \"3\", 4: \"4\", 5: \"5\", 6: \"6\", 7: \"7\", 8: \"8\", 9: \"9\", 10: \"A\",\n",
    "            11: \"B\", 12: \"C\", 13: \"D\", 14: \"E\", 15: \"F\", 16: \"G\", 17: \"H\", 18: \"I\", 19: \"J\", 20: \"K\",\n",
    "            21: \"L\", 22: \"M\", 23: \"N\", 24: \"O\", 25: \"P\", 26: \"Q\", 27: \"R\", 28: \"S\", 29: \"T\", 30: \"U\",\n",
    "            31: \"V\", 32: \"W\", 33: \"X\", 34: \"Y\", 35: \"Z\", 36: \"a\", 37: \"b\", 38: \"c\", 39: \"d\", 40: \"e\",\n",
    "            41: \"f\", 42: \"g\", 43: \"h\", 44: \"i\", 45: \"j\", 46: \"k\", 47: \"l\", 48: \"m\", 49: \"n\", 50: \"o\",\n",
    "            51: \"p\", 52: \"q\", 53: \"r\", 54: \"s\", 55: \"t\", 56: \"u\", 57: \"v\", 58: \"w\", 59: \"x\", 60: \"y\",\n",
    "            61: \"z\"}"
   ]
  },
  {
   "cell_type": "code",
   "execution_count": 14,
   "id": "2c95f16a",
   "metadata": {},
   "outputs": [],
   "source": [
    "gray = cv2.cvtColor(img, cv2.COLOR_BGR2GRAY)\n",
    "blurred = cv2.GaussianBlur(gray, (5, 5), 0)\n",
    "chars = []"
   ]
  },
  {
   "cell_type": "code",
   "execution_count": 15,
   "id": "629dcc81",
   "metadata": {},
   "outputs": [],
   "source": [
    "thresh = cv2.threshold(blurred, 0, 255, cv2.THRESH_OTSU + cv2.THRESH_BINARY_INV)[1]\n",
    "\n",
    "\n",
    "cnts = cv2.findContours(thresh, cv2.RETR_EXTERNAL, cv2.CHAIN_APPROX_SIMPLE)\n",
    "cnts = cnts[0] if len(cnts) == 2 else cnts[1]\n",
    "cnts, _ = contours.sort_contours(cnts, method=\"left-to-right\")\n",
    "\n",
    "\n",
    "for c in cnts:\n",
    "    \n",
    "    area = cv2.contourArea(c)\n",
    "\n",
    "    if (area > 100): #and area <3800):\n",
    "        x,y,w,h = cv2.boundingRect(c)\n",
    "        ROI = blurred[y:y+h, x:x+w]\n",
    "        cv2.rectangle(img, (x, y), (x + w, y + h), (36,255,12), 2)\n",
    "        thresh = cv2.threshold(ROI, 0, 255,cv2.THRESH_BINARY_INV | cv2.THRESH_OTSU)[1]\n",
    "        \n",
    "        if imgSize ==1:\n",
    "            (tH, tW) = thresh.shape\n",
    "            if tW > tH:\n",
    "                thresh = imutils.resize(thresh, width=28)\n",
    "            else:\n",
    "                thresh = imutils.resize(thresh, height=28)\n",
    "\n",
    "            (tH, tW) = thresh.shape\n",
    "            dX = int(max(0, 28 - tW) / 2.0)\n",
    "            dY = int(max(0, 28 - tH) / 2.0)\n",
    "\n",
    "            padded = cv2.copyMakeBorder(thresh, top=dY, bottom=dY,\n",
    "                left=dX, right=dX, borderType=cv2.BORDER_CONSTANT,\n",
    "                value=(0, 0, 0))\n",
    "\n",
    "            padded = cv2.resize(padded, (28, 28))\n",
    "        else:\n",
    "            (tH, tW) = thresh.shape\n",
    "            if tW > tH:\n",
    "                thresh = imutils.resize(thresh, width=64)\n",
    "            else:\n",
    "                thresh = imutils.resize(thresh, height=64)\n",
    "\n",
    "            (tH, tW) = thresh.shape\n",
    "            dX = int(max(0, 64 - tW) / 2.0)\n",
    "            dY = int(max(0, 64 - tH) / 2.0)\n",
    "\n",
    "            padded = cv2.copyMakeBorder(thresh, top=dY, bottom=dY,\n",
    "                left=dX, right=dX, borderType=cv2.BORDER_CONSTANT,\n",
    "                value=(0, 0, 0))\n",
    "\n",
    "            padded = cv2.resize(padded, (64, 64))\n",
    "            \n",
    "            \n",
    "\n",
    "        padded = padded.astype(\"float32\") / 255.0\n",
    "        padded = np.expand_dims(padded, axis=-1)\n",
    "        chars.append((padded, (x, y, w, h)))"
   ]
  },
  {
   "cell_type": "code",
   "execution_count": 16,
   "id": "e93dfe8c",
   "metadata": {},
   "outputs": [
    {
     "name": "stdout",
     "output_type": "stream",
     "text": [
      "[INFO] loading handwriting OCR model...\n",
      "Model: \"sequential_7\"\n",
      "_________________________________________________________________\n",
      "Layer (type)                 Output Shape              Param #   \n",
      "=================================================================\n",
      "conv2d_13 (Conv2D)           (None, 26, 26, 16)        160       \n",
      "_________________________________________________________________\n",
      "max_pooling2d_13 (MaxPooling (None, 13, 13, 16)        0         \n",
      "_________________________________________________________________\n",
      "conv2d_14 (Conv2D)           (None, 11, 11, 32)        4640      \n",
      "_________________________________________________________________\n",
      "max_pooling2d_14 (MaxPooling (None, 5, 5, 32)          0         \n",
      "_________________________________________________________________\n",
      "flatten_7 (Flatten)          (None, 800)               0         \n",
      "_________________________________________________________________\n",
      "dense_19 (Dense)             (None, 256)               205056    \n",
      "_________________________________________________________________\n",
      "dense_20 (Dense)             (None, 128)               32896     \n",
      "_________________________________________________________________\n",
      "dense_21 (Dense)             (None, 47)                6063      \n",
      "=================================================================\n",
      "Total params: 248,815\n",
      "Trainable params: 248,815\n",
      "Non-trainable params: 0\n",
      "_________________________________________________________________\n"
     ]
    },
    {
     "data": {
      "image/png": "[encoded data removed]",
      "text/plain": [
       "<Figure size 720x576 with 6 Axes>"
      ]
     },
     "metadata": {
      "needs_background": "light"
     },
     "output_type": "display_data"
    }
   ],
   "source": [
    "boxes = [b[1] for b in chars]\n",
    "chars = np.array([c[0] for c in chars], dtype=\"float32\")\n",
    "\n",
    "fig,axes = plt.subplots(1,6,figsize=(10,8))\n",
    "for i,ax in enumerate(axes.flat):\n",
    "    ax.imshow(chars[i], cmap=plt.cm.gray)\n",
    "    \n",
    "if imgSize == 1:\n",
    "    print(\"[INFO] loading handwriting OCR model...\")\n",
    "    model = load_model('my_model.h5')\n",
    "    model.summary()\n",
    "else:\n",
    "    print(\"[INFO] loading handwriting OCR model...\")\n",
    "    model = load_model('my_model2.h5')\n",
    "    model.summary()"
   ]
  },
  {
   "cell_type": "code",
   "execution_count": 17,
   "id": "9a1827b5",
   "metadata": {},
   "outputs": [],
   "source": [
    "preds = model.predict(chars)\n",
    "\n",
    "if imgSize == 1:\n",
    "    labelDict = {}\n",
    "    for index, label in enumerate(labelMap):\n",
    "        labelDict[index] = chr(label)\n",
    "else:\n",
    "    labelDict = labelMap\n"
   ]
  },
  {
   "cell_type": "code",
   "execution_count": 18,
   "id": "6307b9d0",
   "metadata": {},
   "outputs": [
    {
     "name": "stdout",
     "output_type": "stream",
     "text": [
      "[INFO] H - 100.00%\n",
      "[INFO] h - 99.95%\n",
      "[INFO] R - 99.51%\n",
      "[INFO] E - 100.00%\n",
      "[INFO] 1 - 64.02%\n",
      "[INFO] 1 - 61.82%\n",
      "[INFO] L - 99.98%\n",
      "[INFO] 0 - 65.38%\n",
      "[INFO] W - 100.00%\n",
      "[INFO] L - 99.98%\n",
      "[INFO] M - 99.94%\n",
      "[INFO] 0 - 63.90%\n",
      "[INFO] O - 63.92%\n",
      "[INFO] W - 99.98%\n",
      "[INFO] r - 82.05%\n",
      "[INFO] d - 94.59%\n",
      "[INFO] 1 - 81.43%\n",
      "[INFO] 0 - 73.80%\n",
      "[INFO] d - 55.04%\n",
      "[INFO] B - 92.13%\n",
      "[INFO] d - 98.84%\n",
      "[INFO] L - 99.68%\n",
      "[INFO] D - 99.99%\n"
     ]
    }
   ],
   "source": [
    "for (pred, (x, y, w, h)) in zip(preds, boxes):\n",
    "\n",
    "    i = np.argmax(pred)\n",
    "    prob = pred[i]\n",
    "    label = labelDict[i]\n",
    "\n",
    "    print(\"[INFO] {} - {:.2f}%\".format(label, prob * 100))\n",
    "    cv2.rectangle(img, (x, y), (x + w, y + h), (0, 255, 0), 2)\n",
    "    cv2.putText(img, label, (x - 10, y - 10),\n",
    "        cv2.FONT_HERSHEY_SIMPLEX, 1.2, (0, 255, 0), 2)\n",
    "    \n",
    "\n",
    "    cv2.imshow(\"Image\", img)\n",
    "    cv2.waitKey(0)"
   ]
  },
  {
   "cell_type": "code",
   "execution_count": null,
   "id": "49490ab0",
   "metadata": {},
   "outputs": [],
   "source": []
  },
  {
   "cell_type": "code",
   "execution_count": null,
   "id": "db4cc970",
   "metadata": {},
   "outputs": [],
   "source": []
  }
 ],
 "metadata": {
  "kernelspec": {
   "display_name": "Python 3 (ipykernel)",
   "language": "python",
   "name": "python3"
  },
  "language_info": {
   "codemirror_mode": {
    "name": "ipython",
    "version": 3
   },
   "file_extension": ".py",
   "mimetype": "text/x-python",
   "name": "python",
   "nbconvert_exporter": "python",
   "pygments_lexer": "ipython3",
   "version": "3.7.9"
  }
 },
 "nbformat": 4,
 "nbformat_minor": 5
}
